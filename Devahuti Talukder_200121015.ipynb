{
 "cells": [
  {
   "cell_type": "code",
   "execution_count": 2,
   "id": "43dac718",
   "metadata": {},
   "outputs": [
    {
     "name": "stdout",
     "output_type": "stream",
     "text": [
      "               ID Segment type Segment Description Answer        Count  \\\n",
      "0     292890.8970          web     Meridian, Idaho     No     0.000000   \n",
      "1     292887.9870          web     Meridian, Idaho     No     0.000000   \n",
      "2     292894.0656       gender     Meridian, Idaho     No   499.173606   \n",
      "3     292887.1180          web     Meridian, Idaho     No     0.000000   \n",
      "4     292893.6561       gender     Meridian, Idaho     No   455.925963   \n",
      "...           ...          ...                 ...    ...          ...   \n",
      "1891  292887.5496          web     Meridian, Idaho     No     0.000000   \n",
      "1892  292881.6932       mobile     Meridian, Idaho     No  1203.190399   \n",
      "1893  292900.8499       gender                 NaN    NaN          NaN   \n",
      "1894  292893.8600       gender     Meridian, Idaho     No  1149.529381   \n",
      "1895  292890.2944          web     Meridian, Idaho     No     0.000000   \n",
      "\n",
      "      Percentage  It became a relationship  \n",
      "0       0.000000                       0.0  \n",
      "1       0.000000                       0.0  \n",
      "2       0.225255                       0.0  \n",
      "3       0.000000                       0.0  \n",
      "4       0.211360                       0.0  \n",
      "...          ...                       ...  \n",
      "1891    0.000000                       0.0  \n",
      "1892    0.312360                       0.0  \n",
      "1893         NaN                       NaN  \n",
      "1894    0.488984                       0.0  \n",
      "1895    0.000000                       0.0  \n",
      "\n",
      "[1896 rows x 7 columns]\n"
     ]
    }
   ],
   "source": [
    "import pandas as pd\n",
    "import numpy as np\n",
    "df=pd.read_csv('task2.csv')\n",
    "print (df)"
   ]
  },
  {
   "cell_type": "code",
   "execution_count": 3,
   "id": "1e974eb3",
   "metadata": {},
   "outputs": [
    {
     "data": {
      "text/html": [
       "<div>\n",
       "<style scoped>\n",
       "    .dataframe tbody tr th:only-of-type {\n",
       "        vertical-align: middle;\n",
       "    }\n",
       "\n",
       "    .dataframe tbody tr th {\n",
       "        vertical-align: top;\n",
       "    }\n",
       "\n",
       "    .dataframe thead th {\n",
       "        text-align: right;\n",
       "    }\n",
       "</style>\n",
       "<table border=\"1\" class=\"dataframe\">\n",
       "  <thead>\n",
       "    <tr style=\"text-align: right;\">\n",
       "      <th></th>\n",
       "      <th>ID</th>\n",
       "      <th>Segment type</th>\n",
       "      <th>Segment Description</th>\n",
       "      <th>Answer</th>\n",
       "      <th>Count</th>\n",
       "      <th>Percentage</th>\n",
       "      <th>It became a relationship</th>\n",
       "    </tr>\n",
       "  </thead>\n",
       "  <tbody>\n",
       "    <tr>\n",
       "      <th>0</th>\n",
       "      <td>292890.8970</td>\n",
       "      <td>web</td>\n",
       "      <td>Meridian, Idaho</td>\n",
       "      <td>No</td>\n",
       "      <td>0.000000</td>\n",
       "      <td>0.000000</td>\n",
       "      <td>0.0</td>\n",
       "    </tr>\n",
       "    <tr>\n",
       "      <th>1</th>\n",
       "      <td>292887.9870</td>\n",
       "      <td>web</td>\n",
       "      <td>Meridian, Idaho</td>\n",
       "      <td>No</td>\n",
       "      <td>0.000000</td>\n",
       "      <td>0.000000</td>\n",
       "      <td>0.0</td>\n",
       "    </tr>\n",
       "    <tr>\n",
       "      <th>2</th>\n",
       "      <td>292894.0656</td>\n",
       "      <td>gender</td>\n",
       "      <td>Meridian, Idaho</td>\n",
       "      <td>No</td>\n",
       "      <td>499.173606</td>\n",
       "      <td>0.225255</td>\n",
       "      <td>0.0</td>\n",
       "    </tr>\n",
       "    <tr>\n",
       "      <th>3</th>\n",
       "      <td>292887.1180</td>\n",
       "      <td>web</td>\n",
       "      <td>Meridian, Idaho</td>\n",
       "      <td>No</td>\n",
       "      <td>0.000000</td>\n",
       "      <td>0.000000</td>\n",
       "      <td>0.0</td>\n",
       "    </tr>\n",
       "    <tr>\n",
       "      <th>4</th>\n",
       "      <td>292893.6561</td>\n",
       "      <td>gender</td>\n",
       "      <td>Meridian, Idaho</td>\n",
       "      <td>No</td>\n",
       "      <td>455.925963</td>\n",
       "      <td>0.211360</td>\n",
       "      <td>0.0</td>\n",
       "    </tr>\n",
       "    <tr>\n",
       "      <th>...</th>\n",
       "      <td>...</td>\n",
       "      <td>...</td>\n",
       "      <td>...</td>\n",
       "      <td>...</td>\n",
       "      <td>...</td>\n",
       "      <td>...</td>\n",
       "      <td>...</td>\n",
       "    </tr>\n",
       "    <tr>\n",
       "      <th>1891</th>\n",
       "      <td>292887.5496</td>\n",
       "      <td>web</td>\n",
       "      <td>Meridian, Idaho</td>\n",
       "      <td>No</td>\n",
       "      <td>0.000000</td>\n",
       "      <td>0.000000</td>\n",
       "      <td>0.0</td>\n",
       "    </tr>\n",
       "    <tr>\n",
       "      <th>1892</th>\n",
       "      <td>292881.6932</td>\n",
       "      <td>mobile</td>\n",
       "      <td>Meridian, Idaho</td>\n",
       "      <td>No</td>\n",
       "      <td>1203.190399</td>\n",
       "      <td>0.312360</td>\n",
       "      <td>0.0</td>\n",
       "    </tr>\n",
       "    <tr>\n",
       "      <th>1893</th>\n",
       "      <td>292900.8499</td>\n",
       "      <td>gender</td>\n",
       "      <td>0</td>\n",
       "      <td>0</td>\n",
       "      <td>0.000000</td>\n",
       "      <td>0.000000</td>\n",
       "      <td>0.0</td>\n",
       "    </tr>\n",
       "    <tr>\n",
       "      <th>1894</th>\n",
       "      <td>292893.8600</td>\n",
       "      <td>gender</td>\n",
       "      <td>Meridian, Idaho</td>\n",
       "      <td>No</td>\n",
       "      <td>1149.529381</td>\n",
       "      <td>0.488984</td>\n",
       "      <td>0.0</td>\n",
       "    </tr>\n",
       "    <tr>\n",
       "      <th>1895</th>\n",
       "      <td>292890.2944</td>\n",
       "      <td>web</td>\n",
       "      <td>Meridian, Idaho</td>\n",
       "      <td>No</td>\n",
       "      <td>0.000000</td>\n",
       "      <td>0.000000</td>\n",
       "      <td>0.0</td>\n",
       "    </tr>\n",
       "  </tbody>\n",
       "</table>\n",
       "<p>1896 rows × 7 columns</p>\n",
       "</div>"
      ],
      "text/plain": [
       "               ID Segment type Segment Description Answer        Count  \\\n",
       "0     292890.8970          web     Meridian, Idaho     No     0.000000   \n",
       "1     292887.9870          web     Meridian, Idaho     No     0.000000   \n",
       "2     292894.0656       gender     Meridian, Idaho     No   499.173606   \n",
       "3     292887.1180          web     Meridian, Idaho     No     0.000000   \n",
       "4     292893.6561       gender     Meridian, Idaho     No   455.925963   \n",
       "...           ...          ...                 ...    ...          ...   \n",
       "1891  292887.5496          web     Meridian, Idaho     No     0.000000   \n",
       "1892  292881.6932       mobile     Meridian, Idaho     No  1203.190399   \n",
       "1893  292900.8499       gender                   0      0     0.000000   \n",
       "1894  292893.8600       gender     Meridian, Idaho     No  1149.529381   \n",
       "1895  292890.2944          web     Meridian, Idaho     No     0.000000   \n",
       "\n",
       "      Percentage  It became a relationship  \n",
       "0       0.000000                       0.0  \n",
       "1       0.000000                       0.0  \n",
       "2       0.225255                       0.0  \n",
       "3       0.000000                       0.0  \n",
       "4       0.211360                       0.0  \n",
       "...          ...                       ...  \n",
       "1891    0.000000                       0.0  \n",
       "1892    0.312360                       0.0  \n",
       "1893    0.000000                       0.0  \n",
       "1894    0.488984                       0.0  \n",
       "1895    0.000000                       0.0  \n",
       "\n",
       "[1896 rows x 7 columns]"
      ]
     },
     "execution_count": 3,
     "metadata": {},
     "output_type": "execute_result"
    }
   ],
   "source": [
    "df.replace(to_replace = np.nan, value = 0)"
   ]
  },
  {
   "cell_type": "code",
   "execution_count": 20,
   "id": "09652112",
   "metadata": {},
   "outputs": [
    {
     "name": "stdout",
     "output_type": "stream",
     "text": [
      "[[292890.897 'web' 'Meridian, Idaho' 'No' 0.0 0.0]\n",
      " [292887.987 'web' 'Meridian, Idaho' 'No' 0.0 0.0]\n",
      " [292894.0656 'gender' 'Meridian, Idaho' 'No' 499.173606 0.225254764]\n",
      " ...\n",
      " [292900.8499 'gender' nan nan nan nan]\n",
      " [292893.86 'gender' 'Meridian, Idaho' 'No' 1149.529381 0.488984275]\n",
      " [292890.2944 'web' 'Meridian, Idaho' 'No' 0.0 0.0]]\n"
     ]
    }
   ],
   "source": [
    "x = df.iloc[:, :-1].values\n",
    "print(x)\n"
   ]
  },
  {
   "cell_type": "code",
   "execution_count": 43,
   "id": "8d92b471",
   "metadata": {},
   "outputs": [
    {
     "data": {
      "text/plain": [
       "0       0.0\n",
       "1       0.0\n",
       "2       0.0\n",
       "3       0.0\n",
       "4       0.0\n",
       "       ... \n",
       "1891    0.0\n",
       "1892    0.0\n",
       "1893    NaN\n",
       "1894    0.0\n",
       "1895    0.0\n",
       "Name: It became a relationship, Length: 1896, dtype: float64"
      ]
     },
     "execution_count": 43,
     "metadata": {},
     "output_type": "execute_result"
    }
   ],
   "source": [
    "y=df[\"It became a relationship\"]\n",
    "y"
   ]
  },
  {
   "cell_type": "code",
   "execution_count": 39,
   "id": "85910ac0",
   "metadata": {},
   "outputs": [
    {
     "data": {
      "text/plain": [
       "1896"
      ]
     },
     "execution_count": 39,
     "metadata": {},
     "output_type": "execute_result"
    }
   ],
   "source": [
    "len(y)"
   ]
  },
  {
   "cell_type": "code",
   "execution_count": 44,
   "id": "826e6027",
   "metadata": {},
   "outputs": [
    {
     "data": {
      "text/plain": [
       "0    0.0\n",
       "1    0.0\n",
       "2    0.0\n",
       "3    0.0\n",
       "4    0.0\n",
       "Name: It became a relationship, dtype: float64"
      ]
     },
     "execution_count": 44,
     "metadata": {},
     "output_type": "execute_result"
    }
   ],
   "source": [
    "y.head()"
   ]
  },
  {
   "cell_type": "code",
   "execution_count": 70,
   "id": "1ac7f596",
   "metadata": {},
   "outputs": [
    {
     "data": {
      "text/plain": [
       "1319    0.0\n",
       "611     1.0\n",
       "964     1.0\n",
       "1316    0.0\n",
       "585     0.0\n",
       "       ... \n",
       "1341    1.0\n",
       "570     0.0\n",
       "1169    0.0\n",
       "1037    0.0\n",
       "1578    0.0\n",
       "Name: It became a relationship, Length: 285, dtype: float64"
      ]
     },
     "execution_count": 70,
     "metadata": {},
     "output_type": "execute_result"
    }
   ],
   "source": [
    "from sklearn.model_selection import train_test_split\n",
    "X_train, X_test, y_train, y_test = train_test_split(X, y, test_size = 0.15, random_state = 42)\n",
    "y_test"
   ]
  },
  {
   "cell_type": "code",
   "execution_count": 46,
   "id": "21ce2b44",
   "metadata": {},
   "outputs": [
    {
     "data": {
      "text/plain": [
       "285"
      ]
     },
     "execution_count": 46,
     "metadata": {},
     "output_type": "execute_result"
    }
   ],
   "source": [
    "len(y_test)"
   ]
  },
  {
   "cell_type": "code",
   "execution_count": 83,
   "id": "4fa7f892",
   "metadata": {},
   "outputs": [],
   "source": [
    "df=df.replace(to_replace=\"Yes\",value=1)\n",
    "df=df.replace(to_replace=\"I don't use Tinder\",value=0)\n",
    "df=df.replace(to_replace=\"web\",value=0)\n",
    "df=df.replace(to_replace=\"gender\",value=1)\n",
    "df=df.replace(to_replace=\"university\",value=2)\n",
    "df=df.replace(to_replace=\"mobile\",value=3)\n",
    "df=df.replace(to_replace=\"No\",value=2)\n",
    "df=df.replace(to_replace = np.nan, value = 0)"
   ]
  },
  {
   "cell_type": "code",
   "execution_count": 84,
   "id": "81761767",
   "metadata": {},
   "outputs": [
    {
     "data": {
      "text/html": [
       "<div>\n",
       "<style scoped>\n",
       "    .dataframe tbody tr th:only-of-type {\n",
       "        vertical-align: middle;\n",
       "    }\n",
       "\n",
       "    .dataframe tbody tr th {\n",
       "        vertical-align: top;\n",
       "    }\n",
       "\n",
       "    .dataframe thead th {\n",
       "        text-align: right;\n",
       "    }\n",
       "</style>\n",
       "<table border=\"1\" class=\"dataframe\">\n",
       "  <thead>\n",
       "    <tr style=\"text-align: right;\">\n",
       "      <th></th>\n",
       "      <th>Segment type</th>\n",
       "      <th>Answer</th>\n",
       "      <th>Count</th>\n",
       "      <th>Percentage</th>\n",
       "    </tr>\n",
       "  </thead>\n",
       "  <tbody>\n",
       "    <tr>\n",
       "      <th>0</th>\n",
       "      <td>2</td>\n",
       "      <td>2.0</td>\n",
       "      <td>0.000000</td>\n",
       "      <td>0.000000</td>\n",
       "    </tr>\n",
       "    <tr>\n",
       "      <th>1</th>\n",
       "      <td>2</td>\n",
       "      <td>2.0</td>\n",
       "      <td>0.000000</td>\n",
       "      <td>0.000000</td>\n",
       "    </tr>\n",
       "    <tr>\n",
       "      <th>2</th>\n",
       "      <td>3</td>\n",
       "      <td>2.0</td>\n",
       "      <td>499.173606</td>\n",
       "      <td>0.225255</td>\n",
       "    </tr>\n",
       "    <tr>\n",
       "      <th>3</th>\n",
       "      <td>2</td>\n",
       "      <td>2.0</td>\n",
       "      <td>0.000000</td>\n",
       "      <td>0.000000</td>\n",
       "    </tr>\n",
       "    <tr>\n",
       "      <th>4</th>\n",
       "      <td>3</td>\n",
       "      <td>2.0</td>\n",
       "      <td>455.925963</td>\n",
       "      <td>0.211360</td>\n",
       "    </tr>\n",
       "  </tbody>\n",
       "</table>\n",
       "</div>"
      ],
      "text/plain": [
       "   Segment type  Answer       Count  Percentage\n",
       "0             2     2.0    0.000000    0.000000\n",
       "1             2     2.0    0.000000    0.000000\n",
       "2             3     2.0  499.173606    0.225255\n",
       "3             2     2.0    0.000000    0.000000\n",
       "4             3     2.0  455.925963    0.211360"
      ]
     },
     "execution_count": 84,
     "metadata": {},
     "output_type": "execute_result"
    }
   ],
   "source": [
    "X=df.drop(columns=\"It became a relationship\")\n",
    "X=X.drop(columns=\"Segment Description\")\n",
    "X=X.drop(columns=\"ID\")\n",
    "y=df[\"It became a relationship\"]\n",
    "X.head()"
   ]
  },
  {
   "cell_type": "code",
   "execution_count": 86,
   "id": "ee490e8a",
   "metadata": {},
   "outputs": [
    {
     "data": {
      "text/plain": [
       "1319    0.0\n",
       "611     1.0\n",
       "964     1.0\n",
       "1316    0.0\n",
       "585     0.0\n",
       "       ... \n",
       "1341    1.0\n",
       "570     0.0\n",
       "1169    0.0\n",
       "1037    0.0\n",
       "1578    0.0\n",
       "Name: It became a relationship, Length: 285, dtype: float64"
      ]
     },
     "execution_count": 86,
     "metadata": {},
     "output_type": "execute_result"
    }
   ],
   "source": [
    "from sklearn.model_selection import train_test_split\n",
    "X_train, X_test, y_train, y_test = train_test_split(X, y, test_size = 0.15, random_state = 42)\n",
    "y_test"
   ]
  },
  {
   "cell_type": "code",
   "execution_count": 87,
   "id": "aba02236",
   "metadata": {},
   "outputs": [
    {
     "data": {
      "text/plain": [
       "0.9087719298245615"
      ]
     },
     "execution_count": 87,
     "metadata": {},
     "output_type": "execute_result"
    }
   ],
   "source": [
    "from sklearn.ensemble import RandomForestClassifier\n",
    "clf=RandomForestClassifier(n_estimators=1000)\n",
    "clf.fit(X_train, y_train)\n",
    "clf.score(X_test, y_test)"
   ]
  },
  {
   "cell_type": "code",
   "execution_count": 76,
   "id": "fa65d208",
   "metadata": {},
   "outputs": [],
   "source": [
    "from sklearn.ensemble import RandomForestClassifier\n",
    "clf=RandomForestClassifier(n_estimators=100)"
   ]
  },
  {
   "cell_type": "code",
   "execution_count": 77,
   "id": "585b7e5d",
   "metadata": {},
   "outputs": [
    {
     "data": {
      "text/plain": [
       "RandomForestClassifier()"
      ]
     },
     "execution_count": 77,
     "metadata": {},
     "output_type": "execute_result"
    }
   ],
   "source": [
    "clf.fit(X_train, y_train)"
   ]
  },
  {
   "cell_type": "code",
   "execution_count": 78,
   "id": "5d2eef14",
   "metadata": {},
   "outputs": [
    {
     "data": {
      "text/plain": [
       "0.9157894736842105"
      ]
     },
     "execution_count": 78,
     "metadata": {},
     "output_type": "execute_result"
    }
   ],
   "source": [
    "clf.score(X_test, y_test)"
   ]
  },
  {
   "cell_type": "code",
   "execution_count": 89,
   "id": "2c57870f",
   "metadata": {},
   "outputs": [
    {
     "data": {
      "text/plain": [
       "0.887719298245614"
      ]
     },
     "execution_count": 89,
     "metadata": {},
     "output_type": "execute_result"
    }
   ],
   "source": [
    "from sklearn.ensemble import RandomForestClassifier\n",
    "clf=RandomForestClassifier(n_estimators=)\n",
    "clf.fit(X_train, y_train)\n",
    "clf.score(X_test, y_test)"
   ]
  },
  {
   "cell_type": "code",
   "execution_count": 90,
   "id": "b6d72419",
   "metadata": {},
   "outputs": [
    {
     "data": {
      "text/plain": [
       "LogisticRegression()"
      ]
     },
     "execution_count": 90,
     "metadata": {},
     "output_type": "execute_result"
    }
   ],
   "source": [
    "from sklearn.linear_model import LogisticRegression\n",
    "logistic_regression= LogisticRegression()\n",
    "logistic_regression.fit(X_train,y_train)"
   ]
  },
  {
   "cell_type": "code",
   "execution_count": 91,
   "id": "9fe4d3ab",
   "metadata": {},
   "outputs": [],
   "source": [
    "from sklearn.discriminant_analysis import LinearDiscriminantAnalysis as LDA\n",
    "\n",
    "lda = LDA(n_components=1)\n",
    "X_train = lda.fit_transform(X_train, y_train)\n",
    "X_test = lda.transform(X_test)"
   ]
  },
  {
   "cell_type": "code",
   "execution_count": 92,
   "id": "a7b5dfb7",
   "metadata": {},
   "outputs": [
    {
     "data": {
      "text/plain": [
       "array([[ 1.58993324],\n",
       "       [-0.94801236],\n",
       "       [-1.4092475 ],\n",
       "       [ 0.75824237],\n",
       "       [ 1.58993324],\n",
       "       [-1.71200035],\n",
       "       [-0.66986636],\n",
       "       [ 1.58993324],\n",
       "       [ 0.63039814],\n",
       "       [-1.81370916],\n",
       "       [ 1.58993324],\n",
       "       [-1.44270863],\n",
       "       [-1.45162464],\n",
       "       [-1.71238312],\n",
       "       [-1.30283663],\n",
       "       [-1.41667009],\n",
       "       [-1.09889928],\n",
       "       [-1.68279751],\n",
       "       [ 0.54699286],\n",
       "       [ 0.776913  ],\n",
       "       [-1.05764866],\n",
       "       [-1.184956  ],\n",
       "       [ 1.58993324],\n",
       "       [ 1.58993324],\n",
       "       [ 0.9521374 ],\n",
       "       [ 0.78083667],\n",
       "       [-0.89615883],\n",
       "       [ 1.58993324],\n",
       "       [ 1.58993324],\n",
       "       [ 1.58993324],\n",
       "       [ 0.73497934],\n",
       "       [ 1.58993324],\n",
       "       [ 0.68807083],\n",
       "       [-1.60360141],\n",
       "       [-1.74747009],\n",
       "       [ 0.75035207],\n",
       "       [ 0.85708572],\n",
       "       [ 0.83054261],\n",
       "       [-0.62792228],\n",
       "       [-1.6617049 ],\n",
       "       [-1.76811771],\n",
       "       [-0.9969306 ],\n",
       "       [ 0.68116003],\n",
       "       [ 1.58993324],\n",
       "       [-0.9957337 ],\n",
       "       [ 1.58993324],\n",
       "       [ 1.58993324],\n",
       "       [-1.61253641],\n",
       "       [ 1.58993324],\n",
       "       [-1.06754637],\n",
       "       [-0.60736167],\n",
       "       [-1.24853407],\n",
       "       [-1.00489796],\n",
       "       [-0.48009543],\n",
       "       [ 0.71509119],\n",
       "       [-1.81886628],\n",
       "       [ 0.65479264],\n",
       "       [ 0.63080672],\n",
       "       [ 1.58993324],\n",
       "       [ 1.58993324],\n",
       "       [ 1.58993324],\n",
       "       [ 1.58993324],\n",
       "       [ 1.58993324],\n",
       "       [ 1.26470566],\n",
       "       [ 0.73286292],\n",
       "       [ 1.58993324],\n",
       "       [-1.50056855],\n",
       "       [ 0.82667193],\n",
       "       [ 1.58993324],\n",
       "       [ 1.33936031],\n",
       "       [ 1.58993324],\n",
       "       [ 1.58993324],\n",
       "       [-0.93903912],\n",
       "       [-0.60736167],\n",
       "       [-1.41216763],\n",
       "       [-1.77694885],\n",
       "       [ 0.7767931 ],\n",
       "       [-0.90674463],\n",
       "       [-1.09770238],\n",
       "       [ 0.69828402],\n",
       "       [-0.963077  ],\n",
       "       [ 0.68485622],\n",
       "       [-1.74446241],\n",
       "       [ 1.36807326],\n",
       "       [-1.45895493],\n",
       "       [-1.81674534],\n",
       "       [ 0.68280041],\n",
       "       [-1.72897133],\n",
       "       [-1.01403946],\n",
       "       [-1.71653108],\n",
       "       [ 0.75653842],\n",
       "       [ 1.58993324],\n",
       "       [-1.55187312],\n",
       "       [-1.26274676],\n",
       "       [-1.79582108],\n",
       "       [ 1.58993324],\n",
       "       [-0.7714954 ],\n",
       "       [-0.60736167],\n",
       "       [-0.89615883],\n",
       "       [ 1.58993324],\n",
       "       [ 0.71226677],\n",
       "       [ 1.58993324],\n",
       "       [ 1.58993324],\n",
       "       [ 1.58993324],\n",
       "       [ 1.58993324],\n",
       "       [ 1.17634287],\n",
       "       [-1.36927459],\n",
       "       [ 0.85146549],\n",
       "       [ 1.58993324],\n",
       "       [ 1.58993324],\n",
       "       [ 0.68619624],\n",
       "       [ 0.80018809],\n",
       "       [ 1.58993324],\n",
       "       [ 0.52639038],\n",
       "       [ 1.38631229],\n",
       "       [-0.89615883],\n",
       "       [ 1.58993324],\n",
       "       [-0.933703  ],\n",
       "       [-0.89615883],\n",
       "       [-1.58538685],\n",
       "       [-1.3567101 ],\n",
       "       [ 1.58993324],\n",
       "       [ 1.58993324],\n",
       "       [-0.71189901],\n",
       "       [-1.59163379],\n",
       "       [ 0.71576042],\n",
       "       [ 0.69172777],\n",
       "       [-1.34201285],\n",
       "       [ 1.27465477],\n",
       "       [ 1.58993324],\n",
       "       [ 1.58993324],\n",
       "       [ 0.73587393],\n",
       "       [-1.37107377],\n",
       "       [-1.5562881 ],\n",
       "       [-1.74574258],\n",
       "       [ 0.68946291],\n",
       "       [-1.59163379],\n",
       "       [-1.4653419 ],\n",
       "       [ 0.97638995],\n",
       "       [-0.89615883],\n",
       "       [ 0.75441085],\n",
       "       [-1.43470792],\n",
       "       [-0.48508017],\n",
       "       [-1.78055438],\n",
       "       [-1.42209085],\n",
       "       [ 1.58993324],\n",
       "       [ 1.58993324],\n",
       "       [-1.55495516],\n",
       "       [ 0.99766813],\n",
       "       [-1.06699312],\n",
       "       [-1.71655407],\n",
       "       [ 1.16882095],\n",
       "       [-0.63646397],\n",
       "       [ 1.10054057],\n",
       "       [ 1.58993324],\n",
       "       [ 1.58993324],\n",
       "       [ 1.58993324],\n",
       "       [-1.36761433],\n",
       "       [-0.86190545],\n",
       "       [-1.40725797],\n",
       "       [-0.49209681],\n",
       "       [-1.68307974],\n",
       "       [ 0.76245195],\n",
       "       [-0.89615883],\n",
       "       [ 0.68161649],\n",
       "       [ 1.58993324],\n",
       "       [-1.62380902],\n",
       "       [-1.58763672],\n",
       "       [ 1.58993324],\n",
       "       [ 0.68890294],\n",
       "       [-1.80523376],\n",
       "       [-0.91365191],\n",
       "       [-1.59163379],\n",
       "       [-0.62989704],\n",
       "       [-1.52805859],\n",
       "       [ 0.78136473],\n",
       "       [-1.73127605],\n",
       "       [-0.60736167],\n",
       "       [-1.75795427],\n",
       "       [-1.5064403 ],\n",
       "       [-1.30283663],\n",
       "       [ 1.58993324],\n",
       "       [ 1.58993324],\n",
       "       [-0.97840185],\n",
       "       [ 1.58993324],\n",
       "       [-0.87411853],\n",
       "       [ 1.58993324],\n",
       "       [ 1.36549318],\n",
       "       [ 0.5822708 ],\n",
       "       [-1.55208031],\n",
       "       [ 1.58993324],\n",
       "       [ 0.77439277],\n",
       "       [ 1.58993324],\n",
       "       [ 0.73742328],\n",
       "       [-1.75192002],\n",
       "       [-1.05452111],\n",
       "       [ 1.38268631],\n",
       "       [ 1.58993324],\n",
       "       [ 1.58993324],\n",
       "       [-1.40414478],\n",
       "       [-0.60736167],\n",
       "       [ 1.58993324],\n",
       "       [-1.184956  ],\n",
       "       [-0.67157216],\n",
       "       [-1.61372797],\n",
       "       [-0.60736167],\n",
       "       [ 1.58993324],\n",
       "       [ 1.58993324],\n",
       "       [-0.89615883],\n",
       "       [ 1.58993324],\n",
       "       [-0.61412389],\n",
       "       [ 1.58993324],\n",
       "       [-1.42540232],\n",
       "       [-1.59043689],\n",
       "       [-1.14384099],\n",
       "       [ 0.63337411],\n",
       "       [-1.59163379],\n",
       "       [ 1.23923761],\n",
       "       [-1.62763278],\n",
       "       [-1.7015143 ],\n",
       "       [-0.70813344],\n",
       "       [-1.38649954],\n",
       "       [ 0.55032121],\n",
       "       [ 1.58993324],\n",
       "       [ 1.58993324],\n",
       "       [ 1.58993324],\n",
       "       [ 1.31481483],\n",
       "       [-0.95602922],\n",
       "       [ 1.58993324],\n",
       "       [-1.5146219 ],\n",
       "       [-1.30850597],\n",
       "       [-1.78730509],\n",
       "       [ 1.05901354],\n",
       "       [ 1.58993324],\n",
       "       [-1.07190385],\n",
       "       [-0.9969306 ],\n",
       "       [ 1.58993324],\n",
       "       [-1.68050875],\n",
       "       [-1.36690839],\n",
       "       [ 1.58993324],\n",
       "       [-1.75477193],\n",
       "       [-1.45461462],\n",
       "       [ 0.68442191],\n",
       "       [-0.89615883],\n",
       "       [ 0.70777326],\n",
       "       [ 1.3347223 ],\n",
       "       [-0.95414316],\n",
       "       [-1.50879163],\n",
       "       [ 1.58993324],\n",
       "       [ 0.90416844],\n",
       "       [ 1.13179496],\n",
       "       [ 1.58993324],\n",
       "       [-1.00653703],\n",
       "       [-1.70646261],\n",
       "       [ 1.58993324],\n",
       "       [ 1.27121972],\n",
       "       [ 1.58993324],\n",
       "       [-1.79875534],\n",
       "       [ 1.58993324],\n",
       "       [ 1.58993324],\n",
       "       [-1.01710353],\n",
       "       [-1.69768066],\n",
       "       [-0.97524406],\n",
       "       [-1.46121538],\n",
       "       [-1.53695167],\n",
       "       [ 1.58993324],\n",
       "       [-0.706689  ],\n",
       "       [ 0.96802848],\n",
       "       [ 1.58993324],\n",
       "       [ 1.25933118],\n",
       "       [-1.06754637],\n",
       "       [-1.74476463],\n",
       "       [-1.41037094],\n",
       "       [ 1.2324087 ],\n",
       "       [-1.71591542],\n",
       "       [ 1.58993324],\n",
       "       [ 0.51124856],\n",
       "       [-0.9969306 ],\n",
       "       [-0.72144564],\n",
       "       [-1.80441685],\n",
       "       [-1.74628528],\n",
       "       [ 1.58993324],\n",
       "       [ 0.7420965 ],\n",
       "       [-0.6877397 ],\n",
       "       [ 1.28505126]])"
      ]
     },
     "execution_count": 92,
     "metadata": {},
     "output_type": "execute_result"
    }
   ],
   "source": [
    "X_test"
   ]
  },
  {
   "cell_type": "code",
   "execution_count": 93,
   "id": "e872afc4",
   "metadata": {},
   "outputs": [],
   "source": [
    "from sklearn.svm import SVC\n",
    "svclassifier = SVC(kernel='linear')\n",
    "svclassifier.fit(X_train, y_train)\n",
    "y_pred = svclassifier.predict(X_test)"
   ]
  },
  {
   "cell_type": "code",
   "execution_count": 94,
   "id": "9ccd5911",
   "metadata": {},
   "outputs": [
    {
     "name": "stdout",
     "output_type": "stream",
     "text": [
      "[[131  52]\n",
      " [ 12  90]]\n",
      "              precision    recall  f1-score   support\n",
      "\n",
      "         0.0       0.92      0.72      0.80       183\n",
      "         1.0       0.63      0.88      0.74       102\n",
      "\n",
      "    accuracy                           0.78       285\n",
      "   macro avg       0.77      0.80      0.77       285\n",
      "weighted avg       0.82      0.78      0.78       285\n",
      "\n"
     ]
    }
   ],
   "source": [
    "from sklearn.metrics import classification_report, confusion_matrix\n",
    "print(confusion_matrix(y_test,y_pred))\n",
    "print(classification_report(y_test,y_pred))"
   ]
  },
  {
   "cell_type": "code",
   "execution_count": 98,
   "id": "f07c2fcf",
   "metadata": {},
   "outputs": [
    {
     "data": {
      "text/plain": [
       "array([0., 1., 0., 0., 0., 1., 1., 0., 0., 1., 0., 0., 1., 1., 0., 1., 1.,\n",
       "       1., 0., 0., 0., 0., 0., 0., 0., 0., 1., 0., 0., 0., 0., 0., 0., 1.,\n",
       "       1., 0., 0., 0., 0., 1., 1., 0., 0., 0., 0., 0., 0., 0., 0., 1., 0.,\n",
       "       1., 1., 0., 0., 1., 0., 0., 0., 0., 0., 0., 0., 0., 0., 0., 1., 0.,\n",
       "       0., 0., 0., 0., 1., 0., 1., 1., 0., 0., 0., 0., 1., 0., 1., 0., 1.,\n",
       "       1., 0., 1., 1., 1., 0., 0., 1., 0., 1., 0., 0., 0., 1., 0., 0., 0.,\n",
       "       0., 0., 0., 0., 0., 0., 0., 0., 0., 0., 0., 0., 0., 1., 0., 1., 1.,\n",
       "       1., 0., 0., 0., 0., 1., 0., 0., 1., 0., 0., 0., 0., 1., 1., 1., 0.,\n",
       "       1., 1., 0., 1., 0., 1., 0., 1., 1., 0., 0., 1., 1., 1., 1., 1., 1.,\n",
       "       1., 0., 0., 0., 0., 0., 1., 0., 1., 0., 1., 0., 0., 1., 1., 0., 0.,\n",
       "       1., 0., 1., 0., 1., 0., 1., 0., 1., 0., 0., 0., 0., 1., 0., 0., 0.,\n",
       "       0., 0., 1., 0., 0., 0., 0., 1., 0., 0., 0., 0., 1., 0., 0., 0., 1.,\n",
       "       0., 0., 0., 0., 1., 0., 0., 0., 1., 0., 1., 0., 1., 1., 1., 0., 0.,\n",
       "       1., 0., 0., 0., 0., 1., 0., 0., 1., 1., 1., 1., 0., 0., 0., 0., 1.,\n",
       "       0., 0., 1., 0., 0., 1., 0., 0., 1., 1., 0., 0., 1., 0., 1., 1., 0.,\n",
       "       0., 0., 1., 0., 0., 0., 1., 0., 1., 1., 0., 1., 1., 0., 0., 1., 1.,\n",
       "       1., 0., 1., 0., 0., 0., 1., 1., 1., 0., 0., 0., 1.])"
      ]
     },
     "execution_count": 98,
     "metadata": {},
     "output_type": "execute_result"
    }
   ],
   "source": [
    "from sklearn.ensemble import RandomForestClassifier\n",
    "clf=RandomForestClassifier(n_estimators=100)\n",
    "clf.fit(X_train, y_train)\n",
    "clf.predict(X_test)"
   ]
  },
  {
   "cell_type": "code",
   "execution_count": 99,
   "id": "3b35611c",
   "metadata": {},
   "outputs": [
    {
     "data": {
      "text/plain": [
       "1319    0.0\n",
       "611     1.0\n",
       "964     1.0\n",
       "1316    0.0\n",
       "585     0.0\n",
       "       ... \n",
       "1341    1.0\n",
       "570     0.0\n",
       "1169    0.0\n",
       "1037    0.0\n",
       "1578    0.0\n",
       "Name: It became a relationship, Length: 285, dtype: float64"
      ]
     },
     "execution_count": 99,
     "metadata": {},
     "output_type": "execute_result"
    }
   ],
   "source": [
    "y_test"
   ]
  },
  {
   "cell_type": "code",
   "execution_count": null,
   "id": "6893e8f7",
   "metadata": {},
   "outputs": [],
   "source": []
  }
 ],
 "metadata": {
  "kernelspec": {
   "display_name": "Python 3",
   "language": "python",
   "name": "python3"
  },
  "language_info": {
   "codemirror_mode": {
    "name": "ipython",
    "version": 3
   },
   "file_extension": ".py",
   "mimetype": "text/x-python",
   "name": "python",
   "nbconvert_exporter": "python",
   "pygments_lexer": "ipython3",
   "version": "3.8.8"
  }
 },
 "nbformat": 4,
 "nbformat_minor": 5
}
